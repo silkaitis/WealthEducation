{
 "cells": [
  {
   "cell_type": "code",
   "execution_count": 1,
   "metadata": {
    "collapsed": false
   },
   "outputs": [],
   "source": [
    "import requests\n",
    "import csv\n",
    "import math\n",
    "\n",
    "import pandas as pd\n",
    "import matplotlib.pyplot as plt\n",
    "import scipy.stats as sts\n",
    "import sqlite3 as sql\n",
    "import statsmodels.api as sm\n",
    "\n",
    "from bs4 import BeautifulSoup\n",
    "\n",
    "%matplotlib inline"
   ]
  },
  {
   "cell_type": "code",
   "execution_count": 2,
   "metadata": {
    "collapsed": false
   },
   "outputs": [],
   "source": [
    "#Pull HTML from archived UN website and parse\n",
    "r = requests.get('http://web.archive.org/web/20110514112442/'\\\n",
    "                 'http://unstats.un.org/unsd/demographic/products/socind/education.htm')\n",
    "\n",
    "soup = BeautifulSoup(r.content,'html.parser')"
   ]
  },
  {
   "cell_type": "code",
   "execution_count": 3,
   "metadata": {
    "collapsed": false
   },
   "outputs": [],
   "source": [
    "#Extract data at appropriate level in structure\n",
    "urlData=[]\n",
    "for i in soup('table')[6]('tr'):\n",
    "    #The groups of interest have a length of 25, hence this filter to exclude items not needed\n",
    "    if len(i) == 25:\n",
    "        urlData.append(i)"
   ]
  },
  {
   "cell_type": "code",
   "execution_count": 4,
   "metadata": {
    "collapsed": false
   },
   "outputs": [],
   "source": [
    "#Manipulate HTML data into DataFrame\n",
    "colList=['Country','Year','Total','Men','Women']\n",
    "tableData = pd.DataFrame(columns=['Country','Year','Total','Men','Women'])\n",
    "\n",
    "for i, entry in enumerate(urlData):\n",
    "    tableData.loc[i]=[int(entry('td')[v].get_text()) \n",
    "                      if v > 1 \n",
    "                      else entry('td')[v].get_text() \n",
    "                      for v in [0,1,4,7,10]]\n",
    "\n",
    "#Set country as index and drop old column\n",
    "tableData = tableData.set_index(tableData['Country'])\n",
    "tableData = tableData.drop(['Country'],1)"
   ]
  },
  {
   "cell_type": "code",
   "execution_count": 5,
   "metadata": {
    "collapsed": false
   },
   "outputs": [],
   "source": [
    "#Pull World Bank data into a DataFrame\n",
    "fileName='API_NY.GDP.MKTP.CD_DS2_en_csv_v2.csv'\n",
    "moneyData=pd.read_csv(fileName, \n",
    "                      header = 2,\n",
    "                      usecols = ['Country Name',\n",
    "                                 '1999',\n",
    "                                 '2000',\n",
    "                                 '2001',\n",
    "                                 '2002',\n",
    "                                 '2003',\n",
    "                                 '2004',\n",
    "                                 '2005',\n",
    "                                 '2006',\n",
    "                                 '2007',\n",
    "                                 '2008',\n",
    "                                 '2009',\n",
    "                                 '2010'])\n",
    "\n",
    "#Relabel the DataFrame index & drop Country Name column\n",
    "moneyData=moneyData.set_index(moneyData['Country Name'])\n",
    "moneyData=moneyData.drop('Country Name',1)\n",
    "#Make index name SQLite friendly\n",
    "moneyData.index.names= ['CountryName']\n",
    "\n",
    "#Make column names SQLite friendly\n",
    "colname=[]\n",
    "for yr in range(1999,2011):\n",
    "    colname.append('_'+str(yr))\n",
    "moneyData.columns = colname\n",
    "\n",
    "#Create database\n",
    "con = sql.connect('WorldBankData.db')\n",
    "cur = con.cursor()\n",
    "\n",
    "#Create function to deal with SQLite weirdness about Unicode & text_factory\n",
    "con.text_factory = lambda x: unicode(x,'utf-8','ignore')\n",
    "\n",
    "#Push moneyData DataFrame into the database\n",
    "cur.execute('DROP TABLE IF EXISTS gdp;')\n",
    "moneyData.to_sql('gdp', con, flavor='sqlite')\n",
    "\n",
    "#Push tableData DataFrame into the database\n",
    "cur.execute('DROP TABLE IF EXISTS education;')\n",
    "tableData.to_sql('education', con, flavor = 'sqlite')"
   ]
  },
  {
   "cell_type": "code",
   "execution_count": 6,
   "metadata": {
    "collapsed": false
   },
   "outputs": [],
   "source": [
    "#Generate selection for join\n",
    "slct=''\n",
    "for yr in range(1999,2011):\n",
    "    slct=slct + ',gdp._' + str(yr)\n",
    "\n",
    "#Query database and insert into DataFrame\n",
    "joinData=pd.read_sql('SELECT education.Country,education.Year,education.Total' \n",
    "                     + slct \n",
    "                     + ' FROM education'\\\n",
    "                       ' INNER JOIN gdp ON education.Country = gdp.CountryName', con)"
   ]
  },
  {
   "cell_type": "code",
   "execution_count": 7,
   "metadata": {
    "collapsed": false
   },
   "outputs": [],
   "source": [
    "#Match Education Year & GDP Year and pull GDP for that year\n",
    "joinData['gdp'] = [joinData.loc[idx]['_' + str(joinData.loc[idx][1])] for idx in joinData.index]\n",
    "\n",
    "#Generate list to drop....\n",
    "slct=[]\n",
    "for yr in range(1999,2011):\n",
    "    slct.append('_'+str(yr))\n",
    "#...and drop them\n",
    "joinData=joinData.drop(slct, 1)"
   ]
  },
  {
   "cell_type": "code",
   "execution_count": 8,
   "metadata": {
    "collapsed": false
   },
   "outputs": [],
   "source": [
    "#Perform log transform and store in new column\n",
    "joinData['gdp_log'] = [math.log(x) for x in joinData['gdp']]\n",
    "joinData['Total_log'] = [math.log(x) for x in joinData['Total']]\n",
    "joinData=joinData.dropna()"
   ]
  },
  {
   "cell_type": "code",
   "execution_count": 9,
   "metadata": {
    "collapsed": false
   },
   "outputs": [
    {
     "name": "stdout",
     "output_type": "stream",
     "text": [
      "                            OLS Regression Results                            \n",
      "==============================================================================\n",
      "Dep. Variable:                      y   R-squared:                       0.191\n",
      "Model:                            OLS   Adj. R-squared:                  0.185\n",
      "Method:                 Least Squares   F-statistic:                     34.13\n",
      "Date:                Mon, 03 Oct 2016   Prob (F-statistic):           3.26e-08\n",
      "Time:                        20:22:07   Log-Likelihood:                -327.45\n",
      "No. Observations:                 147   AIC:                             658.9\n",
      "Df Residuals:                     145   BIC:                             664.9\n",
      "Df Model:                           1                                         \n",
      "Covariance Type:            nonrobust                                         \n",
      "==============================================================================\n",
      "                 coef    std err          t      P>|t|      [95.0% Conf. Int.]\n",
      "------------------------------------------------------------------------------\n",
      "const         13.9179      1.706      8.157      0.000        10.545    17.290\n",
      "x1             3.9815      0.681      5.842      0.000         2.635     5.328\n",
      "==============================================================================\n",
      "Omnibus:                        4.935   Durbin-Watson:                   2.170\n",
      "Prob(Omnibus):                  0.085   Jarque-Bera (JB):                4.436\n",
      "Skew:                          -0.395   Prob(JB):                        0.109\n",
      "Kurtosis:                       3.317   Cond. No.                         26.5\n",
      "==============================================================================\n",
      "\n",
      "Warnings:\n",
      "[1] Standard Errors assume that the covariance matrix of the errors is correctly specified.\n"
     ]
    },
    {
     "data": {
      "image/png": "[encoded data removed]",
      "text/plain": [
       "<matplotlib.figure.Figure at 0x119a4cc90>"
      ]
     },
     "metadata": {},
     "output_type": "display_data"
    }
   ],
   "source": [
    "#Linear Regression\n",
    "x=[x for x in joinData['Total_log']]\n",
    "y=[y for y in joinData['gdp_log']]\n",
    "x=sm.add_constant(x)\n",
    "model=sm.OLS(y,x)\n",
    "results=model.fit()\n",
    "\n",
    "#Create linear regression data to plot\n",
    "mX = [1.6 + 0.1*x for x in range(1,15)]\n",
    "mY=[float(results.params[0]) + float(results.params[1])*x for x in mX]\n",
    "\n",
    "#Plot data\n",
    "plt.scatter(joinData['Total_log'],joinData['gdp_log'])\n",
    "plt.plot(mX,mY)\n",
    "plt.title('School Life vs GDP')\n",
    "plt.xlabel('Total School Life - log(yr)')\n",
    "plt.ylabel('GDP - log(USD)')\n",
    "plt.savefig('School Life vs GDP', dpi = 100)\n",
    "\n",
    "print(results.summary())"
   ]
  }
 ],
 "metadata": {
  "anaconda-cloud": {},
  "kernelspec": {
   "display_name": "Python 2",
   "language": "python",
   "name": "python2"
  },
  "language_info": {
   "codemirror_mode": {
    "name": "ipython",
    "version": 2
   },
   "file_extension": ".py",
   "mimetype": "text/x-python",
   "name": "python",
   "nbconvert_exporter": "python",
   "pygments_lexer": "ipython2",
   "version": "2.7.12"
  }
 },
 "nbformat": 4,
 "nbformat_minor": 0
}
