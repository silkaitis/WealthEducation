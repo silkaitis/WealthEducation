{
 "cells": [
  {
   "cell_type": "code",
   "execution_count": 76,
   "metadata": {
    "collapsed": false
   },
   "outputs": [],
   "source": [
    "from bs4 import BeautifulSoup\n",
    "import requests\n",
    "import pandas as pd\n",
    "import matplotlib.pyplot as plt\n",
    "import scipy.stats as sts\n",
    "%matplotlib inline"
   ]
  },
  {
   "cell_type": "code",
   "execution_count": 3,
   "metadata": {
    "collapsed": false
   },
   "outputs": [],
   "source": [
    "#Pull HTML from UN website and parse\n",
    "r = requests.get(\"http://web.archive.org/web/20110514112442/http://unstats.un.org/unsd/demographic/products/socind/education.htm\")\n",
    "soup = BeautifulSoup(r.content,'html.parser')"
   ]
  },
  {
   "cell_type": "code",
   "execution_count": 14,
   "metadata": {
    "collapsed": false
   },
   "outputs": [],
   "source": [
    "#Extract data at appropriate level in structure\n",
    "urlData=[]\n",
    "for i in soup('table')[6]('tr'):\n",
    "    #The groups of interest have a length of 25, hence this filter to exclude items not needed\n",
    "    if len(i) == 25:\n",
    "        urlData.append(i)"
   ]
  },
  {
   "cell_type": "code",
   "execution_count": 63,
   "metadata": {
    "collapsed": false
   },
   "outputs": [
    {
     "data": {
      "text/html": [
       "<div>\n",
       "<table border=\"1\" class=\"dataframe\">\n",
       "  <thead>\n",
       "    <tr style=\"text-align: right;\">\n",
       "      <th></th>\n",
       "      <th>Year</th>\n",
       "      <th>Total</th>\n",
       "      <th>Men</th>\n",
       "      <th>Women</th>\n",
       "    </tr>\n",
       "    <tr>\n",
       "      <th>Country</th>\n",
       "      <th></th>\n",
       "      <th></th>\n",
       "      <th></th>\n",
       "      <th></th>\n",
       "    </tr>\n",
       "  </thead>\n",
       "  <tbody>\n",
       "    <tr>\n",
       "      <th>Afghanistan</th>\n",
       "      <td>2004</td>\n",
       "      <td>8.0</td>\n",
       "      <td>11.0</td>\n",
       "      <td>5.0</td>\n",
       "    </tr>\n",
       "    <tr>\n",
       "      <th>Albania</th>\n",
       "      <td>2004</td>\n",
       "      <td>11.0</td>\n",
       "      <td>11.0</td>\n",
       "      <td>11.0</td>\n",
       "    </tr>\n",
       "    <tr>\n",
       "      <th>Algeria</th>\n",
       "      <td>2005</td>\n",
       "      <td>13.0</td>\n",
       "      <td>13.0</td>\n",
       "      <td>13.0</td>\n",
       "    </tr>\n",
       "    <tr>\n",
       "      <th>Andorra</th>\n",
       "      <td>2008</td>\n",
       "      <td>11.0</td>\n",
       "      <td>11.0</td>\n",
       "      <td>12.0</td>\n",
       "    </tr>\n",
       "    <tr>\n",
       "      <th>Anguilla</th>\n",
       "      <td>2008</td>\n",
       "      <td>11.0</td>\n",
       "      <td>11.0</td>\n",
       "      <td>11.0</td>\n",
       "    </tr>\n",
       "  </tbody>\n",
       "</table>\n",
       "</div>"
      ],
      "text/plain": [
       "             Year  Total   Men  Women\n",
       "Country                              \n",
       "Afghanistan  2004    8.0  11.0    5.0\n",
       "Albania      2004   11.0  11.0   11.0\n",
       "Algeria      2005   13.0  13.0   13.0\n",
       "Andorra      2008   11.0  11.0   12.0\n",
       "Anguilla     2008   11.0  11.0   11.0"
      ]
     },
     "execution_count": 63,
     "metadata": {},
     "output_type": "execute_result"
    }
   ],
   "source": [
    "#Manipulate HTML data into DataFrame\n",
    "colList=['Country','Year','Total','Men','Women']\n",
    "tableData = pd.DataFrame(columns=['Country','Year','Total','Men','Women'])\n",
    "\n",
    "i=0\n",
    "for entry in urlData:\n",
    "    tableData.loc[i]=[int(entry('td')[v].get_text()) if v > 1 else entry('td')[v].get_text() for v in [0,1,4,7,10]]\n",
    "    i+=1\n",
    "\n",
    "#Set country as index and drop old column\n",
    "tableData=tableData.set_index(tableData['Country'])\n",
    "tableData=tableData.drop(['Country'],1)\n",
    "tableData.head()"
   ]
  },
  {
   "cell_type": "code",
   "execution_count": 80,
   "metadata": {
    "collapsed": false
   },
   "outputs": [
    {
     "data": {
      "text/plain": [
       "Ttest_indResult(statistic=-0.35754274008519049, pvalue=0.72089275398804431)"
      ]
     },
     "execution_count": 80,
     "metadata": {},
     "output_type": "execute_result"
    }
   ],
   "source": [
    "sts.ttest_ind(tableData['Men'],tableData['Women'])"
   ]
  },
  {
   "cell_type": "code",
   "execution_count": 82,
   "metadata": {
    "collapsed": false
   },
   "outputs": [
    {
     "name": "stdout",
     "output_type": "stream",
     "text": [
      "Mean School Life Expectancy for Total is 12.45\n",
      "Median School Life Expectancy for Total is 13.00\n",
      "Normality Test P-Value for Total is 0.44\n",
      "\n",
      "Mean School Life Expectancy for Men is 12.39\n",
      "Median School Life Expectancy for Men is 12.00\n",
      "Normality Test P-Value for Men is 0.42\n",
      "\n",
      "Mean School Life Expectancy for Women is 12.51\n",
      "Median School Life Expectancy for Women is 13.00\n",
      "Normality Test P-Value for Women is 0.06\n",
      "\n",
      "Null Hypothesis: School Life Expectancy is equivalent for Men and Women regardless of country\n",
      "T-Test P-Value: 0.72\n"
     ]
    },
    {
     "data": {
      "image/png": "[encoded data removed]",
      "text/plain": [
       "<matplotlib.figure.Figure at 0xd3bac50>"
      ]
     },
     "metadata": {},
     "output_type": "display_data"
    },
    {
     "data": {
      "image/png": "[encoded data removed]",
      "text/plain": [
       "<matplotlib.figure.Figure at 0xd2833c8>"
      ]
     },
     "metadata": {},
     "output_type": "display_data"
    },
    {
     "data": {
      "image/png": "[encoded data removed]",
      "text/plain": [
       "<matplotlib.figure.Figure at 0xd3ac940>"
      ]
     },
     "metadata": {},
     "output_type": "display_data"
    }
   ],
   "source": [
    "for col in colList[2::]:\n",
    "    s,p = sts.normaltest(tableData[col])\n",
    "    print('Mean School Life Expectancy for %s is %0.2f' % (col,tableData[col].mean()))\n",
    "    print('Median School Life Expectancy for %s is %0.2f' % (col,tableData[col].median()))\n",
    "    print('Normality Test P-Value for %s is %0.2f\\n' % (col,p))\n",
    "    \n",
    "    plt.figure()\n",
    "    plt.hist(tableData[col])\n",
    "    plt.title(col)\n",
    "    plt.xlabel('School Life Expectancy (years)')\n",
    "    plt.ylabel('Frequency')\n",
    "\n",
    "s,p = sts.ttest_ind(tableData['Men'],tableData['Women'])\n",
    "print('Null Hypothesis: School Life Expectancy is equivalent for Men and Women regardless of country')\n",
    "print('T-Test P-Value: %0.2f' % p)\n",
    "print('Null Hypothesis accepted')"
   ]
  }
 ],
 "metadata": {
  "kernelspec": {
   "display_name": "Python [Root]",
   "language": "python",
   "name": "Python [Root]"
  },
  "language_info": {
   "codemirror_mode": {
    "name": "ipython",
    "version": 3
   },
   "file_extension": ".py",
   "mimetype": "text/x-python",
   "name": "python",
   "nbconvert_exporter": "python",
   "pygments_lexer": "ipython3",
   "version": "3.5.1"
  }
 },
 "nbformat": 4,
 "nbformat_minor": 0
}
