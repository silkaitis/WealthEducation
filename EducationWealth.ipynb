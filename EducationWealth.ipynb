{
 "cells": [
  {
   "cell_type": "code",
   "execution_count": 61,
   "metadata": {
    "collapsed": false
   },
   "outputs": [],
   "source": [
    "from bs4 import BeautifulSoup\n",
    "import requests\n",
    "import pandas as pd\n",
    "import matplotlib.pyplot as plt\n",
    "import scipy.stats as sts\n",
    "import csv\n",
    "import sqlite3 as sql\n",
    "%matplotlib inline"
   ]
  },
  {
   "cell_type": "code",
   "execution_count": 48,
   "metadata": {
    "collapsed": false
   },
   "outputs": [],
   "source": [
    "#Pull HTML from UN website and parse\n",
    "r = requests.get(\"http://web.archive.org/web/20110514112442/http://unstats.un.org/unsd/demographic/products/socind/education.htm\")\n",
    "soup = BeautifulSoup(r.content,'html.parser')"
   ]
  },
  {
   "cell_type": "code",
   "execution_count": 49,
   "metadata": {
    "collapsed": false
   },
   "outputs": [],
   "source": [
    "#Extract data at appropriate level in structure\n",
    "urlData=[]\n",
    "for i in soup('table')[6]('tr'):\n",
    "    #The groups of interest have a length of 25, hence this filter to exclude items not needed\n",
    "    if len(i) == 25:\n",
    "        urlData.append(i)"
   ]
  },
  {
   "cell_type": "code",
   "execution_count": 50,
   "metadata": {
    "collapsed": false
   },
   "outputs": [
    {
     "data": {
      "text/html": [
       "<div>\n",
       "<table border=\"1\" class=\"dataframe\">\n",
       "  <thead>\n",
       "    <tr style=\"text-align: right;\">\n",
       "      <th></th>\n",
       "      <th>Year</th>\n",
       "      <th>Total</th>\n",
       "      <th>Men</th>\n",
       "      <th>Women</th>\n",
       "    </tr>\n",
       "    <tr>\n",
       "      <th>Country</th>\n",
       "      <th></th>\n",
       "      <th></th>\n",
       "      <th></th>\n",
       "      <th></th>\n",
       "    </tr>\n",
       "  </thead>\n",
       "  <tbody>\n",
       "    <tr>\n",
       "      <th>Afghanistan</th>\n",
       "      <td>2004</td>\n",
       "      <td>8.0</td>\n",
       "      <td>11.0</td>\n",
       "      <td>5.0</td>\n",
       "    </tr>\n",
       "    <tr>\n",
       "      <th>Albania</th>\n",
       "      <td>2004</td>\n",
       "      <td>11.0</td>\n",
       "      <td>11.0</td>\n",
       "      <td>11.0</td>\n",
       "    </tr>\n",
       "    <tr>\n",
       "      <th>Algeria</th>\n",
       "      <td>2005</td>\n",
       "      <td>13.0</td>\n",
       "      <td>13.0</td>\n",
       "      <td>13.0</td>\n",
       "    </tr>\n",
       "    <tr>\n",
       "      <th>Andorra</th>\n",
       "      <td>2008</td>\n",
       "      <td>11.0</td>\n",
       "      <td>11.0</td>\n",
       "      <td>12.0</td>\n",
       "    </tr>\n",
       "    <tr>\n",
       "      <th>Anguilla</th>\n",
       "      <td>2008</td>\n",
       "      <td>11.0</td>\n",
       "      <td>11.0</td>\n",
       "      <td>11.0</td>\n",
       "    </tr>\n",
       "  </tbody>\n",
       "</table>\n",
       "</div>"
      ],
      "text/plain": [
       "             Year  Total   Men  Women\n",
       "Country                              \n",
       "Afghanistan  2004    8.0  11.0    5.0\n",
       "Albania      2004   11.0  11.0   11.0\n",
       "Algeria      2005   13.0  13.0   13.0\n",
       "Andorra      2008   11.0  11.0   12.0\n",
       "Anguilla     2008   11.0  11.0   11.0"
      ]
     },
     "execution_count": 50,
     "metadata": {},
     "output_type": "execute_result"
    }
   ],
   "source": [
    "#Manipulate HTML data into DataFrame\n",
    "colList=['Country','Year','Total','Men','Women']\n",
    "tableData = pd.DataFrame(columns=['Country','Year','Total','Men','Women'])\n",
    "\n",
    "i=0\n",
    "for entry in urlData:\n",
    "    tableData.loc[i]=[int(entry('td')[v].get_text()) if v > 1 else entry('td')[v].get_text() for v in [0,1,4,7,10]]\n",
    "    i+=1\n",
    "\n",
    "#Set country as index and drop old column\n",
    "tableData=tableData.set_index(tableData['Country'])\n",
    "tableData=tableData.drop(['Country'],1)\n",
    "tableData.head()"
   ]
  },
  {
   "cell_type": "code",
   "execution_count": null,
   "metadata": {
    "collapsed": false
   },
   "outputs": [],
   "source": [
    "#Evaluate the data captured from the UN on school life\n",
    "for col in colList[2::]:\n",
    "    s,p = sts.normaltest(tableData[col])\n",
    "    print('Mean School Life Expectancy for %s is %0.2f' % (col,tableData[col].mean()))\n",
    "    print('Median School Life Expectancy for %s is %0.2f' % (col,tableData[col].median()))\n",
    "    print('Normality Test P-Value for %s is %0.2f\\n' % (col,p))\n",
    "    \n",
    "    plt.figure()\n",
    "    plt.hist(tableData[col])\n",
    "    plt.title(col)\n",
    "    plt.xlabel('School Life Expectancy (years)')\n",
    "    plt.ylabel('Frequency')\n",
    "\n",
    "s,p = sts.ttest_ind(tableData['Men'],tableData['Women'])\n",
    "print('Null Hypothesis: School Life Expectancy is equivalent for Men and Women regardless of country')\n",
    "print('T-Test P-Value: %0.2f' % p)\n",
    "if p > .05:\n",
    "    print('Null Hypothesis Accepted')\n",
    "else:\n",
    "    print('Null Hypothesis REEEEjected!')\n"
   ]
  },
  {
   "cell_type": "code",
   "execution_count": 71,
   "metadata": {
    "collapsed": false
   },
   "outputs": [],
   "source": [
    "#Pull World Bank data into a DataFrame (shortcut)\n",
    "fileName='API_NY.GDP.MKTP.CD_DS2_en_csv_v2.csv'\n",
    "moneyData=pd.read_csv(fileName,header=2,usecols=['Country Name','1999','2000','2001','2002','2003','2004','2005','2006','2007','2008','2009','2010'])\n",
    "moneyData=moneyData.set_index(moneyData['Country Name'])\n",
    "moneyData=moneyData.drop('Country Name',1)\n",
    "\n",
    "#Create database\n",
    "con = sql.connect('WorldBankData.db')\n",
    "cur = con.cursor()\n",
    "\n",
    "#Create function to deal with SQLite weirdness about Unicode & text_factory\n",
    "con.text_factory = lambda x: unicode(x,'utf-8','ignore')\n",
    "\n",
    "#Push moneyData DataFrame into the database\n",
    "cur.execute('DROP TABLE IF EXISTS gdp;')\n",
    "moneyData.to_sql('gdp',con,flavor='sqlite')\n",
    "\n",
    "#Push tableData DataFrame into the database\n",
    "cur.execute('DROP TABLE IF EXISTS education;')\n",
    "tableData.to_sql('education',con,flavor='sqlite')"
   ]
  }
 ],
 "metadata": {
  "kernelspec": {
   "display_name": "Python [Root]",
   "language": "python",
   "name": "Python [Root]"
  },
  "language_info": {
   "codemirror_mode": {
    "name": "ipython",
    "version": 2
   },
   "file_extension": ".py",
   "mimetype": "text/x-python",
   "name": "python",
   "nbconvert_exporter": "python",
   "pygments_lexer": "ipython2",
   "version": "2.7.11"
  }
 },
 "nbformat": 4,
 "nbformat_minor": 0
}
