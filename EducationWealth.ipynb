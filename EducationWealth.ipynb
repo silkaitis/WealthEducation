{
 "cells": [
  {
   "cell_type": "code",
   "execution_count": 8,
   "metadata": {
    "collapsed": false
   },
   "outputs": [],
   "source": [
    "#Import Modules\n",
    "import math\n",
    "import requests\n",
    "import csv\n",
    "import collections\n",
    "\n",
    "import sqlite3 as sql\n",
    "import pandas as pd\n",
    "import matplotlib.pyplot as plt\n",
    "import scipy.stats as sts\n",
    "import statsmodels.api as sm\n",
    "\n",
    "from bs4 import BeautifulSoup\n",
    "%matplotlib inline"
   ]
  },
  {
   "cell_type": "code",
   "execution_count": 2,
   "metadata": {
    "collapsed": false
   },
   "outputs": [],
   "source": [
    "#Pull HTML from UN website and parse\n",
    "r = requests.get(\"http://web.archive.org/web/20110514112442/http://unstats.un.org/unsd/demographic/products/socind/education.htm\")\n",
    "soup = BeautifulSoup(r.content,'html.parser')"
   ]
  },
  {
   "cell_type": "code",
   "execution_count": 3,
   "metadata": {
    "collapsed": false
   },
   "outputs": [],
   "source": [
    "#Extract data at appropriate level in structure\n",
    "url_data=[]\n",
    "for i in soup('table')[6]('tr'):\n",
    "    #The groups of interest have a length of 25, hence this filter to exclude items not needed\n",
    "    if len(i) == 25:\n",
    "        url_data.append(i)"
   ]
  },
  {
   "cell_type": "code",
   "execution_count": 23,
   "metadata": {
    "collapsed": false
   },
   "outputs": [
    {
     "data": {
      "text/html": [
       "<div>\n",
       "<table border=\"1\" class=\"dataframe\">\n",
       "  <thead>\n",
       "    <tr style=\"text-align: right;\">\n",
       "      <th></th>\n",
       "      <th>Country</th>\n",
       "      <th>Year</th>\n",
       "      <th>Total</th>\n",
       "      <th>Men</th>\n",
       "      <th>Women</th>\n",
       "    </tr>\n",
       "  </thead>\n",
       "  <tbody>\n",
       "    <tr>\n",
       "      <th>0</th>\n",
       "      <td>Afghanistan</td>\n",
       "      <td>2004</td>\n",
       "      <td>8.0</td>\n",
       "      <td>11.0</td>\n",
       "      <td>5.0</td>\n",
       "    </tr>\n",
       "    <tr>\n",
       "      <th>1</th>\n",
       "      <td>Albania</td>\n",
       "      <td>2004</td>\n",
       "      <td>11.0</td>\n",
       "      <td>11.0</td>\n",
       "      <td>11.0</td>\n",
       "    </tr>\n",
       "    <tr>\n",
       "      <th>2</th>\n",
       "      <td>Algeria</td>\n",
       "      <td>2005</td>\n",
       "      <td>13.0</td>\n",
       "      <td>13.0</td>\n",
       "      <td>13.0</td>\n",
       "    </tr>\n",
       "    <tr>\n",
       "      <th>3</th>\n",
       "      <td>Andorra</td>\n",
       "      <td>2008</td>\n",
       "      <td>11.0</td>\n",
       "      <td>11.0</td>\n",
       "      <td>12.0</td>\n",
       "    </tr>\n",
       "    <tr>\n",
       "      <th>4</th>\n",
       "      <td>Anguilla</td>\n",
       "      <td>2008</td>\n",
       "      <td>11.0</td>\n",
       "      <td>11.0</td>\n",
       "      <td>11.0</td>\n",
       "    </tr>\n",
       "  </tbody>\n",
       "</table>\n",
       "</div>"
      ],
      "text/plain": [
       "       Country  Year  Total   Men  Women\n",
       "0  Afghanistan  2004    8.0  11.0    5.0\n",
       "1      Albania  2004   11.0  11.0   11.0\n",
       "2      Algeria  2005   13.0  13.0   13.0\n",
       "3      Andorra  2008   11.0  11.0   12.0\n",
       "4     Anguilla  2008   11.0  11.0   11.0"
      ]
     },
     "execution_count": 23,
     "metadata": {},
     "output_type": "execute_result"
    }
   ],
   "source": [
    "#Manipulate HTML data into DataFrame\n",
    "col_list = ['Country','Year','Total','Men','Women']\n",
    "UN_data = pd.DataFrame(columns=col_list)\n",
    "\n",
    "#Ugly way\n",
    "for i,entry in enumerate(url_data):\n",
    "    UN_data.loc[i] = [int(entry('td')[v].get_text()) \n",
    "                      if v > 1 else entry('td')[v].get_text() \n",
    "                      for v in [0,1,4,7,10]]\n",
    "\n",
    "#Pretty way\n",
    "#I'll do this later..I promise\n",
    "\n",
    "\n",
    "#Set country as index and drop old column\n",
    "UN_data = UN_data.set_index('Country')"
   ]
  },
  {
   "cell_type": "code",
   "execution_count": 5,
   "metadata": {
    "collapsed": false
   },
   "outputs": [
    {
     "name": "stdout",
     "output_type": "stream",
     "text": [
      "Mean School Life Expectancy for Total is 12.45\n",
      "Median School Life Expectancy for Total is 13.00\n",
      "Normality Test P-Value for Total is 0.44\n",
      "\n",
      "Mean School Life Expectancy for Men is 12.39\n",
      "Median School Life Expectancy for Men is 12.00\n",
      "Normality Test P-Value for Men is 0.42\n",
      "\n",
      "Mean School Life Expectancy for Women is 12.51\n",
      "Median School Life Expectancy for Women is 13.00\n",
      "Normality Test P-Value for Women is 0.06\n",
      "\n",
      "Null Hypothesis: School Life Expectancy is equivalent for Men and Women regardless of country\n",
      "T-Test P-Value: 0.72\n",
      "Null Hypothesis Accepted\n"
     ]
    },
    {
     "data": {
      "image/png": "[encoded data removed]",
      "text/plain": [
       "<matplotlib.figure.Figure at 0x3ba1668>"
      ]
     },
     "metadata": {},
     "output_type": "display_data"
    },
    {
     "data": {
      "image/png": "[encoded data removed]",
      "text/plain": [
       "<matplotlib.figure.Figure at 0xd209b38>"
      ]
     },
     "metadata": {},
     "output_type": "display_data"
    },
    {
     "data": {
      "image/png": "[encoded data removed]",
      "text/plain": [
       "<matplotlib.figure.Figure at 0xd353d68>"
      ]
     },
     "metadata": {},
     "output_type": "display_data"
    }
   ],
   "source": [
    "#Evaluate the data captured from the UN on school life\n",
    "for col in col_list[2::]:\n",
    "    \n",
    "    s,p = sts.normaltest(UN_data[col])\n",
    "    \n",
    "    print('Mean School Life Expectancy for %s is %0.2f' % (col,UN_data[col].mean()))\n",
    "    print('Median School Life Expectancy for %s is %0.2f' % (col,UN_data[col].median()))\n",
    "    print('Normality Test P-Value for %s is %0.2f\\n' % (col,p))\n",
    "    \n",
    "    plt.figure()\n",
    "    plt.hist(UN_data[col])\n",
    "    plt.title(col)\n",
    "    plt.xlabel('School Life Expectancy (years)')\n",
    "    plt.ylabel('Frequency')\n",
    "\n",
    "#T-Test of Null Hypothesis\n",
    "print('Null Hypothesis: School Life Expectancy is equivalent for Men and Women regardless of country')\n",
    "\n",
    "s,p = sts.ttest_ind(UN_data['Men'],UN_data['Women'])\n",
    "print('T-Test P-Value: %0.2f' % p)\n",
    "\n",
    "if p > .05:\n",
    "    print('Null Hypothesis Accepted')\n",
    "else:\n",
    "    print('Null Hypothesis REEEEjected!')\n"
   ]
  },
  {
   "cell_type": "code",
   "execution_count": 31,
   "metadata": {
    "collapsed": false
   },
   "outputs": [],
   "source": [
    "#Pull World Bank data into a DataFrame\n",
    "fileName='API_NY.GDP.MKTP.CD_DS2_en_csv_v2.csv'\n",
    "moneyData = pd.read_csv(fileName, header=2, usecols=['Country Name','1999','2000',\n",
    "                                                     '2001','2002','2003','2004',\n",
    "                                                     '2005','2006','2007','2008',\n",
    "                                                     '2009','2010'])\n",
    "\n",
    "#Relabel the DataFrame index & drop Country Name column\n",
    "moneyData = moneyData.set_index('Country Name')\n",
    "\n",
    "#Make index name SQLite friendly\n",
    "moneyData.index.names= ['CountryName']\n",
    "\n",
    "#Make column names SQLite friendly  \n",
    "moneyData.columns = ['_'+str(yr) for yr in range(1999,2011)]\n",
    "\n",
    "#Create database\n",
    "con = sql.connect('WorldBankData.db')\n",
    "cur = con.cursor()\n",
    "\n",
    "#Create function to deal with SQLite weirdness about Unicode & text_factory\n",
    "con.text_factory = lambda x: unicode(x,'utf-8','ignore')\n",
    "\n",
    "#Push moneyData DataFrame into the database\n",
    "cur.execute('DROP TABLE IF EXISTS gdp;')\n",
    "moneyData.to_sql('gdp',con,flavor='sqlite')\n",
    "\n",
    "#Push UN_data DataFrame into the database\n",
    "cur.execute('DROP TABLE IF EXISTS education;')\n",
    "UN_data.to_sql('education',con,flavor='sqlite')"
   ]
  },
  {
   "cell_type": "code",
   "execution_count": 7,
   "metadata": {
    "collapsed": false
   },
   "outputs": [],
   "source": [
    "#Generate selection for join\n",
    "slct=''\n",
    "for yr in range(1999,2011):\n",
    "    slct=slct+',gdp._'+str(yr)\n",
    "\n",
    "#Query database and insert into DataFrame\n",
    "joinData=pd.read_sql('SELECT education.Country,education.Year,education.Total'+slct+\n",
    "                     ' FROM education INNER JOIN gdp ON education.Country = gdp.CountryName',con)"
   ]
  },
  {
   "cell_type": "code",
   "execution_count": 8,
   "metadata": {
    "collapsed": false
   },
   "outputs": [],
   "source": [
    "#Match Education Year & GDP Year and pull GDP for that year\n",
    "joinData['gdp'] = [joinData.loc[idx]['_'+str(joinData.loc[idx][1])] for idx in joinData.index]\n",
    "\n",
    "#Generate list to drop....\n",
    "slct=[]\n",
    "for yr in range(1999,2011):\n",
    "    slct.append('_'+str(yr))\n",
    "#...and drop them\n",
    "joinData=joinData.drop(slct,1)"
   ]
  },
  {
   "cell_type": "code",
   "execution_count": 22,
   "metadata": {
    "collapsed": false
   },
   "outputs": [],
   "source": [
    "#Perform log transform and store in new column\n",
    "joinData['gdp_log']=[math.log(x) for x in joinData['gdp']]\n",
    "joinData['Total_log']=[math.log(x) for x in joinData['Total']]\n",
    "joinData=joinData.dropna()"
   ]
  },
  {
   "cell_type": "code",
   "execution_count": 31,
   "metadata": {
    "collapsed": false
   },
   "outputs": [
    {
     "name": "stdout",
     "output_type": "stream",
     "text": [
      "                            OLS Regression Results                            \n",
      "==============================================================================\n",
      "Dep. Variable:                      y   R-squared:                       0.191\n",
      "Model:                            OLS   Adj. R-squared:                  0.185\n",
      "Method:                 Least Squares   F-statistic:                     34.13\n",
      "Date:                Thu, 28 Jul 2016   Prob (F-statistic):           3.26e-08\n",
      "Time:                        12:43:38   Log-Likelihood:                -327.45\n",
      "No. Observations:                 147   AIC:                             658.9\n",
      "Df Residuals:                     145   BIC:                             664.9\n",
      "Df Model:                           1                                         \n",
      "Covariance Type:            nonrobust                                         \n",
      "==============================================================================\n",
      "                 coef    std err          t      P>|t|      [95.0% Conf. Int.]\n",
      "------------------------------------------------------------------------------\n",
      "const         13.9179      1.706      8.157      0.000        10.545    17.290\n",
      "x1             3.9815      0.681      5.842      0.000         2.635     5.328\n",
      "==============================================================================\n",
      "Omnibus:                        4.935   Durbin-Watson:                   2.170\n",
      "Prob(Omnibus):                  0.085   Jarque-Bera (JB):                4.436\n",
      "Skew:                          -0.395   Prob(JB):                        0.109\n",
      "Kurtosis:                       3.317   Cond. No.                         26.5\n",
      "==============================================================================\n",
      "\n",
      "Warnings:\n",
      "[1] Standard Errors assume that the covariance matrix of the errors is correctly specified.\n"
     ]
    },
    {
     "data": {
      "image/png": "[encoded data removed]",
      "text/plain": [
       "<matplotlib.figure.Figure at 0xef48e10>"
      ]
     },
     "metadata": {},
     "output_type": "display_data"
    }
   ],
   "source": [
    "#Linear Regression\n",
    "x=[x for x in joinData['Total_log']]\n",
    "y=[y for y in joinData['gdp_log']]\n",
    "x=sm.add_constant(x)\n",
    "model=sm.OLS(y,x)\n",
    "results=model.fit()\n",
    "\n",
    "#Create linear regression data to plot\n",
    "mX = [1.6 + 0.1*x for x in range(1,15)]\n",
    "mY=[float(results.params[0]) + float(results.params[1])*x for x in mX]\n",
    "\n",
    "#Plot data\n",
    "plt.scatter(joinData['Total_log'],joinData['gdp_log'])\n",
    "plt.plot(mX,mY)\n",
    "plt.title('Log(Education Life) vs Log(GDP)')\n",
    "plt.xlabel('Total Education Life - log(yr)')\n",
    "plt.ylabel('GDP - log(USD)')\n",
    "\n",
    "print(results.summary())"
   ]
  },
  {
   "cell_type": "code",
   "execution_count": 32,
   "metadata": {
    "collapsed": false
   },
   "outputs": [],
   "source": [
    "#A correlation between GDP and education life does not exist.  \n",
    "#R-squared is only 19% and the model terms are not significant (p < .05).  \n",
    "#There are a number of explanations for the lack of correlation.  \n",
    "#First, education life and gdp was collected in different years which causes \n",
    "#time to be a confounding variable.  GDP and presumably education life are not \n",
    "#constant and can flucuate up or down.  Those variations could be masking the \n",
    "#real relationship between GDP and education life. Second, additional variables \n",
    "#may need to be considered to improve the model such as number of students enrolled, \n",
    "#level of education provided, number of institutions, etc.  Third, a major assumption\n",
    "#made by using GDP is that a higher GDP means more money is spent on education.  \n",
    "#Taxes for education can and have been rejected within the US, so GDP could rise \n",
    "#while education spending remains flat.  Therefore, we cannot assume education \n",
    "#spending tracks with GDP without further investigation."
   ]
  }
 ],
 "metadata": {
  "anaconda-cloud": {},
  "kernelspec": {
   "display_name": "Python [Root]",
   "language": "python",
   "name": "Python [Root]"
  },
  "language_info": {
   "codemirror_mode": {
    "name": "ipython",
    "version": 2
   },
   "file_extension": ".py",
   "mimetype": "text/x-python",
   "name": "python",
   "nbconvert_exporter": "python",
   "pygments_lexer": "ipython2",
   "version": "2.7.11"
  }
 },
 "nbformat": 4,
 "nbformat_minor": 0
}
