{
 "cells": [
  {
   "cell_type": "code",
   "execution_count": 87,
   "metadata": {
    "collapsed": false
   },
   "outputs": [],
   "source": [
    "from bs4 import BeautifulSoup\n",
    "import requests\n",
    "import pandas as pd\n",
    "import matplotlib.pyplot as plt\n",
    "import scipy.stats as sts\n",
    "import csv\n",
    "import sqlite3 as sql\n",
    "import math\n",
    "import statsmodels.api as sm\n",
    "%matplotlib inline"
   ]
  },
  {
   "cell_type": "code",
   "execution_count": 74,
   "metadata": {
    "collapsed": false
   },
   "outputs": [],
   "source": [
    "#Pull HTML from UN website and parse\n",
    "r = requests.get(\"http://web.archive.org/web/20110514112442/http://unstats.un.org/unsd/demographic/products/socind/education.htm\")\n",
    "soup = BeautifulSoup(r.content,'html.parser')"
   ]
  },
  {
   "cell_type": "code",
   "execution_count": 75,
   "metadata": {
    "collapsed": false
   },
   "outputs": [],
   "source": [
    "#Extract data at appropriate level in structure\n",
    "urlData=[]\n",
    "for i in soup('table')[6]('tr'):\n",
    "    #The groups of interest have a length of 25, hence this filter to exclude items not needed\n",
    "    if len(i) == 25:\n",
    "        urlData.append(i)"
   ]
  },
  {
   "cell_type": "code",
   "execution_count": 76,
   "metadata": {
    "collapsed": false
   },
   "outputs": [],
   "source": [
    "#Manipulate HTML data into DataFrame\n",
    "colList=['Country','Year','Total','Men','Women']\n",
    "tableData = pd.DataFrame(columns=['Country','Year','Total','Men','Women'])\n",
    "\n",
    "i=0\n",
    "for entry in urlData:\n",
    "    tableData.loc[i]=[int(entry('td')[v].get_text()) if v > 1 else entry('td')[v].get_text() for v in [0,1,4,7,10]]\n",
    "    i+=1\n",
    "\n",
    "#Set country as index and drop old column\n",
    "tableData=tableData.set_index(tableData['Country'])\n",
    "tableData=tableData.drop(['Country'],1)"
   ]
  },
  {
   "cell_type": "code",
   "execution_count": 77,
   "metadata": {
    "collapsed": false
   },
   "outputs": [
    {
     "name": "stdout",
     "output_type": "stream",
     "text": [
      "Mean School Life Expectancy for Total is 12.45\n",
      "Median School Life Expectancy for Total is 13.00\n",
      "Normality Test P-Value for Total is 0.44\n",
      "\n",
      "Mean School Life Expectancy for Men is 12.39\n",
      "Median School Life Expectancy for Men is 12.00\n",
      "Normality Test P-Value for Men is 0.42\n",
      "\n",
      "Mean School Life Expectancy for Women is 12.51\n",
      "Median School Life Expectancy for Women is 13.00\n",
      "Normality Test P-Value for Women is 0.06\n",
      "\n",
      "Null Hypothesis: School Life Expectancy is equivalent for Men and Women regardless of country\n",
      "T-Test P-Value: 0.72\n",
      "Null Hypothesis Accepted\n"
     ]
    },
    {
     "data": {
      "image/png": "[encoded data removed]",
      "text/plain": [
       "<matplotlib.figure.Figure at 0xde339b0>"
      ]
     },
     "metadata": {},
     "output_type": "display_data"
    },
    {
     "data": {
      "image/png": "[encoded data removed]",
      "text/plain": [
       "<matplotlib.figure.Figure at 0xcc99390>"
      ]
     },
     "metadata": {},
     "output_type": "display_data"
    },
    {
     "data": {
      "image/png": "[encoded data removed]",
      "text/plain": [
       "<matplotlib.figure.Figure at 0xdcb9160>"
      ]
     },
     "metadata": {},
     "output_type": "display_data"
    }
   ],
   "source": [
    "#Evaluate the data captured from the UN on school life\n",
    "for col in colList[2::]:\n",
    "    s,p = sts.normaltest(tableData[col])\n",
    "    print('Mean School Life Expectancy for %s is %0.2f' % (col,tableData[col].mean()))\n",
    "    print('Median School Life Expectancy for %s is %0.2f' % (col,tableData[col].median()))\n",
    "    print('Normality Test P-Value for %s is %0.2f\\n' % (col,p))\n",
    "    \n",
    "    plt.figure()\n",
    "    plt.hist(tableData[col])\n",
    "    plt.title(col)\n",
    "    plt.xlabel('School Life Expectancy (years)')\n",
    "    plt.ylabel('Frequency')\n",
    "\n",
    "#T-Test of Null Hypothesis\n",
    "s,p = sts.ttest_ind(tableData['Men'],tableData['Women'])\n",
    "print('Null Hypothesis: School Life Expectancy is equivalent for Men and Women regardless of country')\n",
    "print('T-Test P-Value: %0.2f' % p)\n",
    "if p > .05:\n",
    "    print('Null Hypothesis Accepted')\n",
    "else:\n",
    "    print('Null Hypothesis REEEEjected!')\n"
   ]
  },
  {
   "cell_type": "code",
   "execution_count": 78,
   "metadata": {
    "collapsed": false
   },
   "outputs": [],
   "source": [
    "#Pull World Bank data into a DataFrame\n",
    "fileName='API_NY.GDP.MKTP.CD_DS2_en_csv_v2.csv'\n",
    "moneyData=pd.read_csv(fileName,header=2,usecols=['Country Name','1999','2000','2001','2002','2003','2004','2005','2006','2007','2008','2009','2010'])\n",
    "\n",
    "#Relabel the DataFrame index & drop Country Name column\n",
    "moneyData=moneyData.set_index(moneyData['Country Name'])\n",
    "moneyData=moneyData.drop('Country Name',1)\n",
    "#Make index name SQLite friendly\n",
    "moneyData.index.names= ['CountryName']\n",
    "\n",
    "#Make column names SQLite friendly\n",
    "colname=[]\n",
    "for yr in range(1999,2011):\n",
    "    colname.append('_'+str(yr))\n",
    "moneyData.columns = colname\n",
    "\n",
    "#Create database\n",
    "con = sql.connect('WorldBankData.db')\n",
    "cur = con.cursor()\n",
    "\n",
    "#Create function to deal with SQLite weirdness about Unicode & text_factory\n",
    "con.text_factory = lambda x: unicode(x,'utf-8','ignore')\n",
    "\n",
    "#Push moneyData DataFrame into the database\n",
    "cur.execute('DROP TABLE IF EXISTS gdp;')\n",
    "moneyData.to_sql('gdp',con,flavor='sqlite')\n",
    "\n",
    "#Push tableData DataFrame into the database\n",
    "cur.execute('DROP TABLE IF EXISTS education;')\n",
    "tableData.to_sql('education',con,flavor='sqlite')"
   ]
  },
  {
   "cell_type": "code",
   "execution_count": 79,
   "metadata": {
    "collapsed": false
   },
   "outputs": [],
   "source": [
    "#Generate selection for join\n",
    "slct=''\n",
    "for yr in range(1999,2011):\n",
    "    slct=slct+',gdp._'+str(yr)\n",
    "\n",
    "#Query database and insert into DataFrame\n",
    "joinData=pd.read_sql('SELECT education.Country,education.Year,education.Total'+slct+' FROM education INNER JOIN gdp ON education.Country = gdp.CountryName ',con)"
   ]
  },
  {
   "cell_type": "code",
   "execution_count": 80,
   "metadata": {
    "collapsed": false
   },
   "outputs": [],
   "source": [
    "#Match Education Year & GDP Year and pull GDP for that year\n",
    "joinData['gdp']=[joinData.loc[idx]['_'+str(joinData.loc[idx][1])] for idx in joinData.index]\n",
    "\n",
    "#Generate list to drop....\n",
    "slct=[]\n",
    "for yr in range(1999,2011):\n",
    "    slct.append('_'+str(yr))\n",
    "#...and drop them\n",
    "joinData=joinData.drop(slct,1)"
   ]
  },
  {
   "cell_type": "code",
   "execution_count": 84,
   "metadata": {
    "collapsed": false
   },
   "outputs": [],
   "source": [
    "#Perform log transform and store in new column\n",
    "joinData['gdp_log']=[math.log(x) for x in joinData['gdp']]\n",
    "joinData['Total_log']=[math.log(x) for x in joinData['Total']]"
   ]
  },
  {
   "cell_type": "code",
   "execution_count": 129,
   "metadata": {
    "collapsed": false
   },
   "outputs": [
    {
     "data": {
      "text/plain": [
       "array([ nan,  nan])"
      ]
     },
     "execution_count": 129,
     "metadata": {},
     "output_type": "execute_result"
    }
   ],
   "source": [
    "results.params"
   ]
  },
  {
   "cell_type": "code",
   "execution_count": 126,
   "metadata": {
    "collapsed": false
   },
   "outputs": [
    {
     "data": {
      "text/plain": [
       "[<matplotlib.lines.Line2D at 0xe211b70>]"
      ]
     },
     "execution_count": 126,
     "metadata": {},
     "output_type": "execute_result"
    },
    {
     "data": {
      "image/png": "[encoded data removed]",
      "text/plain": [
       "<matplotlib.figure.Figure at 0xe423ef0>"
      ]
     },
     "metadata": {},
     "output_type": "display_data"
    }
   ],
   "source": [
    "#Linear Regression\n",
    "x=[x for x in joinData['Total_log']]\n",
    "y=[y for y in joinData['gdp_log']]\n",
    "x=sm.add_constant(x)\n",
    "model=sm.OLS(y,x)\n",
    "results=model.fit()\n",
    "\n",
    "mX=[]\n",
    "for i in range(1,11):\n",
    "    mX.append(i*0.1+round(min(joinData['Total_log']),1))\n",
    "\n",
    "mY=[float(results.params[0]) + float(results.params[1])*x for x in mX]\n",
    "\n",
    "plt.scatter(joinData['Total_log'],joinData['gdp_log'])\n",
    "plt.plot(mX,mY)"
   ]
  }
 ],
 "metadata": {
  "anaconda-cloud": {},
  "kernelspec": {
   "display_name": "Python [Root]",
   "language": "python",
   "name": "Python [Root]"
  },
  "language_info": {
   "codemirror_mode": {
    "name": "ipython",
    "version": 2
   },
   "file_extension": ".py",
   "mimetype": "text/x-python",
   "name": "python",
   "nbconvert_exporter": "python",
   "pygments_lexer": "ipython2",
   "version": "2.7.11"
  }
 },
 "nbformat": 4,
 "nbformat_minor": 0
}
